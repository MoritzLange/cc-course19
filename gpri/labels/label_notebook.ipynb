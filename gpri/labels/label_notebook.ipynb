{
 "cells": [
  {
   "cell_type": "code",
   "execution_count": 1,
   "metadata": {},
   "outputs": [],
   "source": [
    "import pandas as pd"
   ]
  },
  {
   "cell_type": "code",
   "execution_count": 2,
   "metadata": {},
   "outputs": [],
   "source": [
    "labtab = pd.read_csv(\"label_table_v1.csv\")"
   ]
  },
  {
   "cell_type": "code",
   "execution_count": 3,
   "metadata": {
    "scrolled": true
   },
   "outputs": [
    {
     "data": {
      "text/html": [
       "<div>\n",
       "<style scoped>\n",
       "    .dataframe tbody tr th:only-of-type {\n",
       "        vertical-align: middle;\n",
       "    }\n",
       "\n",
       "    .dataframe tbody tr th {\n",
       "        vertical-align: top;\n",
       "    }\n",
       "\n",
       "    .dataframe thead th {\n",
       "        text-align: right;\n",
       "    }\n",
       "</style>\n",
       "<table border=\"1\" class=\"dataframe\">\n",
       "  <thead>\n",
       "    <tr style=\"text-align: right;\">\n",
       "      <th></th>\n",
       "      <th>WORDS</th>\n",
       "      <th>NEW_LABELS</th>\n",
       "      <th>activity, animal, location, weather, human</th>\n",
       "    </tr>\n",
       "  </thead>\n",
       "  <tbody>\n",
       "    <tr>\n",
       "      <th>0</th>\n",
       "      <td>tench</td>\n",
       "      <td>animal</td>\n",
       "      <td>http://wordnet-rdf.princeton.edu/wn30/01440764-n</td>\n",
       "    </tr>\n",
       "    <tr>\n",
       "      <th>1</th>\n",
       "      <td>goldfish</td>\n",
       "      <td>animal</td>\n",
       "      <td>http://wordnet-rdf.princeton.edu/wn30/01443537-n</td>\n",
       "    </tr>\n",
       "    <tr>\n",
       "      <th>2</th>\n",
       "      <td>great white shark</td>\n",
       "      <td>animal</td>\n",
       "      <td>http://wordnet-rdf.princeton.edu/wn30/01484850-n</td>\n",
       "    </tr>\n",
       "    <tr>\n",
       "      <th>3</th>\n",
       "      <td>tiger shark</td>\n",
       "      <td>animal</td>\n",
       "      <td>http://wordnet-rdf.princeton.edu/wn30/01491361-n</td>\n",
       "    </tr>\n",
       "    <tr>\n",
       "      <th>4</th>\n",
       "      <td>hammerhead shark</td>\n",
       "      <td>animal</td>\n",
       "      <td>http://wordnet-rdf.princeton.edu/wn30/01494475-n</td>\n",
       "    </tr>\n",
       "    <tr>\n",
       "      <th>5</th>\n",
       "      <td>electric ray</td>\n",
       "      <td>animal</td>\n",
       "      <td>http://wordnet-rdf.princeton.edu/wn30/01496331-n</td>\n",
       "    </tr>\n",
       "    <tr>\n",
       "      <th>6</th>\n",
       "      <td>stingray</td>\n",
       "      <td>animal</td>\n",
       "      <td>http://wordnet-rdf.princeton.edu/wn30/01498041-n</td>\n",
       "    </tr>\n",
       "    <tr>\n",
       "      <th>7</th>\n",
       "      <td>cock</td>\n",
       "      <td>animal</td>\n",
       "      <td>http://wordnet-rdf.princeton.edu/wn30/01514668-n</td>\n",
       "    </tr>\n",
       "    <tr>\n",
       "      <th>8</th>\n",
       "      <td>hen</td>\n",
       "      <td>animal</td>\n",
       "      <td>http://wordnet-rdf.princeton.edu/wn30/01514859-n</td>\n",
       "    </tr>\n",
       "    <tr>\n",
       "      <th>9</th>\n",
       "      <td>ostrich</td>\n",
       "      <td>animal</td>\n",
       "      <td>http://wordnet-rdf.princeton.edu/wn30/01518878-n</td>\n",
       "    </tr>\n",
       "  </tbody>\n",
       "</table>\n",
       "</div>"
      ],
      "text/plain": [
       "               WORDS NEW_LABELS  \\\n",
       "0              tench     animal   \n",
       "1           goldfish     animal   \n",
       "2  great white shark     animal   \n",
       "3        tiger shark     animal   \n",
       "4   hammerhead shark     animal   \n",
       "5       electric ray     animal   \n",
       "6           stingray     animal   \n",
       "7               cock     animal   \n",
       "8                hen     animal   \n",
       "9            ostrich     animal   \n",
       "\n",
       "         activity, animal, location, weather, human  \n",
       "0  http://wordnet-rdf.princeton.edu/wn30/01440764-n  \n",
       "1  http://wordnet-rdf.princeton.edu/wn30/01443537-n  \n",
       "2  http://wordnet-rdf.princeton.edu/wn30/01484850-n  \n",
       "3  http://wordnet-rdf.princeton.edu/wn30/01491361-n  \n",
       "4  http://wordnet-rdf.princeton.edu/wn30/01494475-n  \n",
       "5  http://wordnet-rdf.princeton.edu/wn30/01496331-n  \n",
       "6  http://wordnet-rdf.princeton.edu/wn30/01498041-n  \n",
       "7  http://wordnet-rdf.princeton.edu/wn30/01514668-n  \n",
       "8  http://wordnet-rdf.princeton.edu/wn30/01514859-n  \n",
       "9  http://wordnet-rdf.princeton.edu/wn30/01518878-n  "
      ]
     },
     "execution_count": 3,
     "metadata": {},
     "output_type": "execute_result"
    }
   ],
   "source": [
    "labtab.head(10)"
   ]
  },
  {
   "cell_type": "code",
   "execution_count": 8,
   "metadata": {},
   "outputs": [
    {
     "data": {
      "text/plain": [
       "399"
      ]
     },
     "execution_count": 8,
     "metadata": {},
     "output_type": "execute_result"
    }
   ],
   "source": [
    "len(labtab[labtab['NEW_LABELS'] == 'animal'])"
   ]
  },
  {
   "cell_type": "code",
   "execution_count": 4,
   "metadata": {},
   "outputs": [],
   "source": [
    "activity = list()\n",
    "animal = list()\n",
    "location = list()\n",
    "weather = list()\n",
    "human = list()\n",
    "\n",
    "for i in range(labtab.shape[0]):\n",
    "    if(labtab[\"NEW_LABELS\"][i] == \"location\"):\n",
    "        location.append(labtab[\"WORDS\"][i])\n",
    "    elif(labtab[\"NEW_LABELS\"][i] == \"animal\"):\n",
    "        animal.append(labtab[\"WORDS\"][i])\n",
    "    elif(labtab[\"NEW_LABELS\"][i] == \"activity\"):\n",
    "        activity.append(labtab[\"WORDS\"][i])\n",
    "    elif(labtab[\"NEW_LABELS\"][i] == \"weather\"):\n",
    "        weather.append(labtab[\"WORDS\"][i])\n",
    "    elif(labtab[\"NEW_LABELS\"][i] == \"human\"):\n",
    "        human.append(labtab[\"WORDS\"][i])"
   ]
  },
  {
   "cell_type": "code",
   "execution_count": 5,
   "metadata": {},
   "outputs": [
    {
     "name": "stdout",
     "output_type": "stream",
     "text": [
      "565\n",
      "399\n",
      "36\n",
      "0\n",
      "0\n"
     ]
    }
   ],
   "source": [
    "print(len(activity))\n",
    "print(len(animal))\n",
    "print(len(location))\n",
    "print(len(weather))\n",
    "print(len(human))\n",
    "\n",
    "#very unregular classes"
   ]
  },
  {
   "cell_type": "code",
   "execution_count": null,
   "metadata": {},
   "outputs": [],
   "source": []
  }
 ],
 "metadata": {
  "kernelspec": {
   "display_name": "Python 3",
   "language": "python",
   "name": "python3"
  },
  "language_info": {
   "codemirror_mode": {
    "name": "ipython",
    "version": 3
   },
   "file_extension": ".py",
   "mimetype": "text/x-python",
   "name": "python",
   "nbconvert_exporter": "python",
   "pygments_lexer": "ipython3",
   "version": "3.7.3"
  }
 },
 "nbformat": 4,
 "nbformat_minor": 2
}
